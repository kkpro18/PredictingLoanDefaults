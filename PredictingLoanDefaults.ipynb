{
 "cells": [
  {
   "cell_type": "code",
   "id": "initial_id",
   "metadata": {
    "collapsed": true
   },
   "source": [
    "import pandas as pd\n",
    "import numpy as np\n",
    "import matplotlib.pyplot as plt\n",
    "import seaborn as sns\n",
    "import sklearn"
   ],
   "outputs": [],
   "execution_count": null
  },
  {
   "metadata": {},
   "cell_type": "code",
   "source": "data = pd.read_csv('data/loan_default.csv')",
   "id": "4c249db044cf6029",
   "outputs": [],
   "execution_count": null
  },
  {
   "metadata": {},
   "cell_type": "code",
   "source": "data.head()",
   "id": "be1b014d7a75d058",
   "outputs": [],
   "execution_count": null
  },
  {
   "metadata": {},
   "cell_type": "code",
   "source": "data.columns",
   "id": "ff1676bdc64e8a0",
   "outputs": [],
   "execution_count": null
  },
  {
   "metadata": {},
   "cell_type": "markdown",
   "source": "# Data Preprocessing",
   "id": "2166ec7cc433b2f"
  },
  {
   "metadata": {},
   "cell_type": "code",
   "source": "data.isnull().sum()",
   "id": "c5d44406b28de569",
   "outputs": [],
   "execution_count": null
  },
  {
   "metadata": {},
   "cell_type": "markdown",
   "source": "No null values, all good",
   "id": "c89af15dda4ca46c"
  },
  {
   "metadata": {},
   "cell_type": "code",
   "source": "data = data.drop(\"LoanID\", axis=1)",
   "id": "425b3b66482c5cec",
   "outputs": [],
   "execution_count": null
  },
  {
   "metadata": {},
   "cell_type": "code",
   "source": "data.head()",
   "id": "c5a40c6b5f0f999f",
   "outputs": [],
   "execution_count": null
  },
  {
   "metadata": {},
   "cell_type": "code",
   "source": [
    "x = data.copy().drop('Default', axis=1)\n",
    "y = data['Default']"
   ],
   "id": "a47d441f4905210",
   "outputs": [],
   "execution_count": null
  },
  {
   "metadata": {},
   "cell_type": "code",
   "source": [
    "from sklearn.model_selection import train_test_split\n",
    "x_train, x_test, y_train, y_test = train_test_split(x, y, test_size=0.2, random_state=0)"
   ],
   "id": "fe63d87e7dbbcbc9",
   "outputs": [],
   "execution_count": null
  },
  {
   "metadata": {},
   "cell_type": "code",
   "source": [
    "categorical_variables_names = (x_train.dtypes == 'object') # selects the other data type\n",
    "categorical_variables_names = list(categorical_variables_names[categorical_variables_names].index)"
   ],
   "id": "9c18dda7f62393b4",
   "outputs": [],
   "execution_count": null
  },
  {
   "metadata": {},
   "cell_type": "code",
   "source": [
    "# Convert the categorical variables to a usable form:\n",
    "\n",
    "from sklearn.preprocessing import OrdinalEncoder\n",
    "\n",
    "OE_x_train = x_train.copy()\n",
    "OE_x_test = x_test.copy()\n",
    "OE = OrdinalEncoder()\n",
    "\n",
    "OE_x_train[categorical_variables_names] = OE.fit_transform(OE_x_train[categorical_variables_names])\n",
    "OE_x_test[categorical_variables_names] = OE.transform(OE_x_test[categorical_variables_names])\n"
   ],
   "id": "50fb0a79cca2cd1",
   "outputs": [],
   "execution_count": null
  },
  {
   "metadata": {},
   "cell_type": "code",
   "source": [
    "from xgboost import XGBRegressor\n",
    "\n",
    "data_model = XGBRegressor(n_estimators=1000)\n",
    "data_model.fit(OE_x_train, y_train)"
   ],
   "id": "6a70cec22fe14580",
   "outputs": [],
   "execution_count": null
  },
  {
   "metadata": {},
   "cell_type": "code",
   "source": [
    "from sklearn.metrics import mean_squared_error\n",
    "from sklearn.metrics import r2_score\n",
    "\n",
    "predictions = data_model.predict(OE_x_test)\n",
    "root_mean_error = np.sqrt(mean_squared_error(y_test, predictions))\n",
    "r2_score = r2_score(y_test, predictions)\n",
    "\n",
    "print(f\"The root mean squared error is {root_mean_error}\")\n",
    "print(f\"The R2 score is {r2_score}\")"
   ],
   "id": "ecb2c3a8289f371e",
   "outputs": [],
   "execution_count": null
  },
  {
   "metadata": {
    "ExecuteTime": {
     "end_time": "2024-05-19T17:37:40.203600Z",
     "start_time": "2024-05-19T17:37:40.195986Z"
    }
   },
   "cell_type": "code",
   "source": [
    "print(\"P\", predictions)\n",
    "print(\"Y\", y_test)\n",
    "\n",
    "# for prediction in predictions:\n",
    "#     for target in y_test_df:\n",
    "#         print(\"Predicted:\", prediction, \"Actual:\", target)"
   ],
   "id": "821c8cad0440eb5c",
   "outputs": [
    {
     "name": "stdout",
     "output_type": "stream",
     "text": [
      "P               0\n",
      "0      0.139454\n",
      "1     -0.034582\n",
      "2      0.347373\n",
      "3      0.080966\n",
      "4      0.011311\n",
      "...         ...\n",
      "51065  0.480349\n",
      "51066  0.250005\n",
      "51067 -0.103748\n",
      "51068  0.082733\n",
      "51069  0.035492\n",
      "\n",
      "[51070 rows x 1 columns]\n",
      "Y 91816     0\n",
      "140989    0\n",
      "57275     0\n",
      "130235    0\n",
      "244648    0\n",
      "         ..\n",
      "25404     0\n",
      "231940    0\n",
      "184407    0\n",
      "60091     0\n",
      "46022     0\n",
      "Name: Default, Length: 51070, dtype: int64\n"
     ]
    }
   ],
   "execution_count": 27
  },
  {
   "metadata": {},
   "cell_type": "code",
   "source": "",
   "id": "6fe2f67ffbabe135",
   "outputs": [],
   "execution_count": null
  }
 ],
 "metadata": {
  "kernelspec": {
   "display_name": "Python 3",
   "language": "python",
   "name": "python3"
  },
  "language_info": {
   "codemirror_mode": {
    "name": "ipython",
    "version": 2
   },
   "file_extension": ".py",
   "mimetype": "text/x-python",
   "name": "python",
   "nbconvert_exporter": "python",
   "pygments_lexer": "ipython2",
   "version": "2.7.6"
  }
 },
 "nbformat": 4,
 "nbformat_minor": 5
}
